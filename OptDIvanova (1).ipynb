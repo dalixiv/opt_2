{
  "nbformat": 4,
  "nbformat_minor": 0,
  "metadata": {
    "colab": {
      "name": "OptDIvanova.ipynb",
      "provenance": [],
      "collapsed_sections": []
    },
    "kernelspec": {
      "name": "python3",
      "display_name": "Python 3"
    },
    "language_info": {
      "name": "python"
    },
    "widgets": {
      "application/vnd.jupyter.widget-state+json": {
        "e0f38cf9461547c180a87a48cdaa412a": {
          "model_module": "@jupyter-widgets/controls",
          "model_name": "HBoxModel",
          "model_module_version": "1.5.0",
          "state": {
            "_dom_classes": [],
            "_model_module": "@jupyter-widgets/controls",
            "_model_module_version": "1.5.0",
            "_model_name": "HBoxModel",
            "_view_count": null,
            "_view_module": "@jupyter-widgets/controls",
            "_view_module_version": "1.5.0",
            "_view_name": "HBoxView",
            "box_style": "",
            "children": [
              "IPY_MODEL_357bf7b2b07b46d4952d0c41cb4a267d",
              "IPY_MODEL_1252c225fdde4f62ba1f3fa1dd06d887",
              "IPY_MODEL_b86a81a01f354daeaf70e1191259a413"
            ],
            "layout": "IPY_MODEL_290c06294e0749a493365f243c587398"
          }
        },
        "357bf7b2b07b46d4952d0c41cb4a267d": {
          "model_module": "@jupyter-widgets/controls",
          "model_name": "HTMLModel",
          "model_module_version": "1.5.0",
          "state": {
            "_dom_classes": [],
            "_model_module": "@jupyter-widgets/controls",
            "_model_module_version": "1.5.0",
            "_model_name": "HTMLModel",
            "_view_count": null,
            "_view_module": "@jupyter-widgets/controls",
            "_view_module_version": "1.5.0",
            "_view_name": "HTMLView",
            "description": "",
            "description_tooltip": null,
            "layout": "IPY_MODEL_c0fc89e7e6c34f8b9ba4d72dcb599f69",
            "placeholder": "​",
            "style": "IPY_MODEL_45d70d6bf6ee4b718e35cf083ca72749",
            "value": "  0%"
          }
        },
        "1252c225fdde4f62ba1f3fa1dd06d887": {
          "model_module": "@jupyter-widgets/controls",
          "model_name": "FloatProgressModel",
          "model_module_version": "1.5.0",
          "state": {
            "_dom_classes": [],
            "_model_module": "@jupyter-widgets/controls",
            "_model_module_version": "1.5.0",
            "_model_name": "FloatProgressModel",
            "_view_count": null,
            "_view_module": "@jupyter-widgets/controls",
            "_view_module_version": "1.5.0",
            "_view_name": "ProgressView",
            "bar_style": "danger",
            "description": "",
            "description_tooltip": null,
            "layout": "IPY_MODEL_d855a5789fdc42b5aa567af6aca6317d",
            "max": 10000,
            "min": 0,
            "orientation": "horizontal",
            "style": "IPY_MODEL_1a806e7e8c2d47b783c13482f9248be1",
            "value": 6
          }
        },
        "b86a81a01f354daeaf70e1191259a413": {
          "model_module": "@jupyter-widgets/controls",
          "model_name": "HTMLModel",
          "model_module_version": "1.5.0",
          "state": {
            "_dom_classes": [],
            "_model_module": "@jupyter-widgets/controls",
            "_model_module_version": "1.5.0",
            "_model_name": "HTMLModel",
            "_view_count": null,
            "_view_module": "@jupyter-widgets/controls",
            "_view_module_version": "1.5.0",
            "_view_name": "HTMLView",
            "description": "",
            "description_tooltip": null,
            "layout": "IPY_MODEL_471a63c5cb6f4d3c964b7e0c301649de",
            "placeholder": "​",
            "style": "IPY_MODEL_c3b23136c92045618619991d867f85bb",
            "value": " 6/10000 [00:00&lt;02:01, 82.42it/s]"
          }
        },
        "290c06294e0749a493365f243c587398": {
          "model_module": "@jupyter-widgets/base",
          "model_name": "LayoutModel",
          "model_module_version": "1.2.0",
          "state": {
            "_model_module": "@jupyter-widgets/base",
            "_model_module_version": "1.2.0",
            "_model_name": "LayoutModel",
            "_view_count": null,
            "_view_module": "@jupyter-widgets/base",
            "_view_module_version": "1.2.0",
            "_view_name": "LayoutView",
            "align_content": null,
            "align_items": null,
            "align_self": null,
            "border": null,
            "bottom": null,
            "display": null,
            "flex": null,
            "flex_flow": null,
            "grid_area": null,
            "grid_auto_columns": null,
            "grid_auto_flow": null,
            "grid_auto_rows": null,
            "grid_column": null,
            "grid_gap": null,
            "grid_row": null,
            "grid_template_areas": null,
            "grid_template_columns": null,
            "grid_template_rows": null,
            "height": null,
            "justify_content": null,
            "justify_items": null,
            "left": null,
            "margin": null,
            "max_height": null,
            "max_width": null,
            "min_height": null,
            "min_width": null,
            "object_fit": null,
            "object_position": null,
            "order": null,
            "overflow": null,
            "overflow_x": null,
            "overflow_y": null,
            "padding": null,
            "right": null,
            "top": null,
            "visibility": null,
            "width": null
          }
        },
        "c0fc89e7e6c34f8b9ba4d72dcb599f69": {
          "model_module": "@jupyter-widgets/base",
          "model_name": "LayoutModel",
          "model_module_version": "1.2.0",
          "state": {
            "_model_module": "@jupyter-widgets/base",
            "_model_module_version": "1.2.0",
            "_model_name": "LayoutModel",
            "_view_count": null,
            "_view_module": "@jupyter-widgets/base",
            "_view_module_version": "1.2.0",
            "_view_name": "LayoutView",
            "align_content": null,
            "align_items": null,
            "align_self": null,
            "border": null,
            "bottom": null,
            "display": null,
            "flex": null,
            "flex_flow": null,
            "grid_area": null,
            "grid_auto_columns": null,
            "grid_auto_flow": null,
            "grid_auto_rows": null,
            "grid_column": null,
            "grid_gap": null,
            "grid_row": null,
            "grid_template_areas": null,
            "grid_template_columns": null,
            "grid_template_rows": null,
            "height": null,
            "justify_content": null,
            "justify_items": null,
            "left": null,
            "margin": null,
            "max_height": null,
            "max_width": null,
            "min_height": null,
            "min_width": null,
            "object_fit": null,
            "object_position": null,
            "order": null,
            "overflow": null,
            "overflow_x": null,
            "overflow_y": null,
            "padding": null,
            "right": null,
            "top": null,
            "visibility": null,
            "width": null
          }
        },
        "45d70d6bf6ee4b718e35cf083ca72749": {
          "model_module": "@jupyter-widgets/controls",
          "model_name": "DescriptionStyleModel",
          "model_module_version": "1.5.0",
          "state": {
            "_model_module": "@jupyter-widgets/controls",
            "_model_module_version": "1.5.0",
            "_model_name": "DescriptionStyleModel",
            "_view_count": null,
            "_view_module": "@jupyter-widgets/base",
            "_view_module_version": "1.2.0",
            "_view_name": "StyleView",
            "description_width": ""
          }
        },
        "d855a5789fdc42b5aa567af6aca6317d": {
          "model_module": "@jupyter-widgets/base",
          "model_name": "LayoutModel",
          "model_module_version": "1.2.0",
          "state": {
            "_model_module": "@jupyter-widgets/base",
            "_model_module_version": "1.2.0",
            "_model_name": "LayoutModel",
            "_view_count": null,
            "_view_module": "@jupyter-widgets/base",
            "_view_module_version": "1.2.0",
            "_view_name": "LayoutView",
            "align_content": null,
            "align_items": null,
            "align_self": null,
            "border": null,
            "bottom": null,
            "display": null,
            "flex": null,
            "flex_flow": null,
            "grid_area": null,
            "grid_auto_columns": null,
            "grid_auto_flow": null,
            "grid_auto_rows": null,
            "grid_column": null,
            "grid_gap": null,
            "grid_row": null,
            "grid_template_areas": null,
            "grid_template_columns": null,
            "grid_template_rows": null,
            "height": null,
            "justify_content": null,
            "justify_items": null,
            "left": null,
            "margin": null,
            "max_height": null,
            "max_width": null,
            "min_height": null,
            "min_width": null,
            "object_fit": null,
            "object_position": null,
            "order": null,
            "overflow": null,
            "overflow_x": null,
            "overflow_y": null,
            "padding": null,
            "right": null,
            "top": null,
            "visibility": null,
            "width": null
          }
        },
        "1a806e7e8c2d47b783c13482f9248be1": {
          "model_module": "@jupyter-widgets/controls",
          "model_name": "ProgressStyleModel",
          "model_module_version": "1.5.0",
          "state": {
            "_model_module": "@jupyter-widgets/controls",
            "_model_module_version": "1.5.0",
            "_model_name": "ProgressStyleModel",
            "_view_count": null,
            "_view_module": "@jupyter-widgets/base",
            "_view_module_version": "1.2.0",
            "_view_name": "StyleView",
            "bar_color": null,
            "description_width": ""
          }
        },
        "471a63c5cb6f4d3c964b7e0c301649de": {
          "model_module": "@jupyter-widgets/base",
          "model_name": "LayoutModel",
          "model_module_version": "1.2.0",
          "state": {
            "_model_module": "@jupyter-widgets/base",
            "_model_module_version": "1.2.0",
            "_model_name": "LayoutModel",
            "_view_count": null,
            "_view_module": "@jupyter-widgets/base",
            "_view_module_version": "1.2.0",
            "_view_name": "LayoutView",
            "align_content": null,
            "align_items": null,
            "align_self": null,
            "border": null,
            "bottom": null,
            "display": null,
            "flex": null,
            "flex_flow": null,
            "grid_area": null,
            "grid_auto_columns": null,
            "grid_auto_flow": null,
            "grid_auto_rows": null,
            "grid_column": null,
            "grid_gap": null,
            "grid_row": null,
            "grid_template_areas": null,
            "grid_template_columns": null,
            "grid_template_rows": null,
            "height": null,
            "justify_content": null,
            "justify_items": null,
            "left": null,
            "margin": null,
            "max_height": null,
            "max_width": null,
            "min_height": null,
            "min_width": null,
            "object_fit": null,
            "object_position": null,
            "order": null,
            "overflow": null,
            "overflow_x": null,
            "overflow_y": null,
            "padding": null,
            "right": null,
            "top": null,
            "visibility": null,
            "width": null
          }
        },
        "c3b23136c92045618619991d867f85bb": {
          "model_module": "@jupyter-widgets/controls",
          "model_name": "DescriptionStyleModel",
          "model_module_version": "1.5.0",
          "state": {
            "_model_module": "@jupyter-widgets/controls",
            "_model_module_version": "1.5.0",
            "_model_name": "DescriptionStyleModel",
            "_view_count": null,
            "_view_module": "@jupyter-widgets/base",
            "_view_module_version": "1.2.0",
            "_view_name": "StyleView",
            "description_width": ""
          }
        },
        "1e1459cd04c1422882f4f6c8ba8c8cd4": {
          "model_module": "@jupyter-widgets/controls",
          "model_name": "HBoxModel",
          "model_module_version": "1.5.0",
          "state": {
            "_dom_classes": [],
            "_model_module": "@jupyter-widgets/controls",
            "_model_module_version": "1.5.0",
            "_model_name": "HBoxModel",
            "_view_count": null,
            "_view_module": "@jupyter-widgets/controls",
            "_view_module_version": "1.5.0",
            "_view_name": "HBoxView",
            "box_style": "",
            "children": [
              "IPY_MODEL_2a4604d1484247fab8a202381f6c09f9",
              "IPY_MODEL_0b4615d67856495aace7951f0954c2ee",
              "IPY_MODEL_d9c73fbfd6c4422a9fbdc47852961a47"
            ],
            "layout": "IPY_MODEL_ecdcc07962f546f280f154c91f658247"
          }
        },
        "2a4604d1484247fab8a202381f6c09f9": {
          "model_module": "@jupyter-widgets/controls",
          "model_name": "HTMLModel",
          "model_module_version": "1.5.0",
          "state": {
            "_dom_classes": [],
            "_model_module": "@jupyter-widgets/controls",
            "_model_module_version": "1.5.0",
            "_model_name": "HTMLModel",
            "_view_count": null,
            "_view_module": "@jupyter-widgets/controls",
            "_view_module_version": "1.5.0",
            "_view_name": "HTMLView",
            "description": "",
            "description_tooltip": null,
            "layout": "IPY_MODEL_d8c3706663ce436ea1dc7d285b0d033b",
            "placeholder": "​",
            "style": "IPY_MODEL_00b5058d105b42fdac4d9096beed380f",
            "value": "  7%"
          }
        },
        "0b4615d67856495aace7951f0954c2ee": {
          "model_module": "@jupyter-widgets/controls",
          "model_name": "FloatProgressModel",
          "model_module_version": "1.5.0",
          "state": {
            "_dom_classes": [],
            "_model_module": "@jupyter-widgets/controls",
            "_model_module_version": "1.5.0",
            "_model_name": "FloatProgressModel",
            "_view_count": null,
            "_view_module": "@jupyter-widgets/controls",
            "_view_module_version": "1.5.0",
            "_view_name": "ProgressView",
            "bar_style": "danger",
            "description": "",
            "description_tooltip": null,
            "layout": "IPY_MODEL_27be877b86ba4cf5b12413bcf8d8659b",
            "max": 10000,
            "min": 0,
            "orientation": "horizontal",
            "style": "IPY_MODEL_9fc86ff987324fc5ad2ed72eab0d08ef",
            "value": 693
          }
        },
        "d9c73fbfd6c4422a9fbdc47852961a47": {
          "model_module": "@jupyter-widgets/controls",
          "model_name": "HTMLModel",
          "model_module_version": "1.5.0",
          "state": {
            "_dom_classes": [],
            "_model_module": "@jupyter-widgets/controls",
            "_model_module_version": "1.5.0",
            "_model_name": "HTMLModel",
            "_view_count": null,
            "_view_module": "@jupyter-widgets/controls",
            "_view_module_version": "1.5.0",
            "_view_name": "HTMLView",
            "description": "",
            "description_tooltip": null,
            "layout": "IPY_MODEL_d3879839a97d49b2b40a47ebb92a266b",
            "placeholder": "​",
            "style": "IPY_MODEL_93b254536611412cb918aeb9c8709399",
            "value": " 693/10000 [00:00&lt;00:11, 812.35it/s]"
          }
        },
        "ecdcc07962f546f280f154c91f658247": {
          "model_module": "@jupyter-widgets/base",
          "model_name": "LayoutModel",
          "model_module_version": "1.2.0",
          "state": {
            "_model_module": "@jupyter-widgets/base",
            "_model_module_version": "1.2.0",
            "_model_name": "LayoutModel",
            "_view_count": null,
            "_view_module": "@jupyter-widgets/base",
            "_view_module_version": "1.2.0",
            "_view_name": "LayoutView",
            "align_content": null,
            "align_items": null,
            "align_self": null,
            "border": null,
            "bottom": null,
            "display": null,
            "flex": null,
            "flex_flow": null,
            "grid_area": null,
            "grid_auto_columns": null,
            "grid_auto_flow": null,
            "grid_auto_rows": null,
            "grid_column": null,
            "grid_gap": null,
            "grid_row": null,
            "grid_template_areas": null,
            "grid_template_columns": null,
            "grid_template_rows": null,
            "height": null,
            "justify_content": null,
            "justify_items": null,
            "left": null,
            "margin": null,
            "max_height": null,
            "max_width": null,
            "min_height": null,
            "min_width": null,
            "object_fit": null,
            "object_position": null,
            "order": null,
            "overflow": null,
            "overflow_x": null,
            "overflow_y": null,
            "padding": null,
            "right": null,
            "top": null,
            "visibility": null,
            "width": null
          }
        },
        "d8c3706663ce436ea1dc7d285b0d033b": {
          "model_module": "@jupyter-widgets/base",
          "model_name": "LayoutModel",
          "model_module_version": "1.2.0",
          "state": {
            "_model_module": "@jupyter-widgets/base",
            "_model_module_version": "1.2.0",
            "_model_name": "LayoutModel",
            "_view_count": null,
            "_view_module": "@jupyter-widgets/base",
            "_view_module_version": "1.2.0",
            "_view_name": "LayoutView",
            "align_content": null,
            "align_items": null,
            "align_self": null,
            "border": null,
            "bottom": null,
            "display": null,
            "flex": null,
            "flex_flow": null,
            "grid_area": null,
            "grid_auto_columns": null,
            "grid_auto_flow": null,
            "grid_auto_rows": null,
            "grid_column": null,
            "grid_gap": null,
            "grid_row": null,
            "grid_template_areas": null,
            "grid_template_columns": null,
            "grid_template_rows": null,
            "height": null,
            "justify_content": null,
            "justify_items": null,
            "left": null,
            "margin": null,
            "max_height": null,
            "max_width": null,
            "min_height": null,
            "min_width": null,
            "object_fit": null,
            "object_position": null,
            "order": null,
            "overflow": null,
            "overflow_x": null,
            "overflow_y": null,
            "padding": null,
            "right": null,
            "top": null,
            "visibility": null,
            "width": null
          }
        },
        "00b5058d105b42fdac4d9096beed380f": {
          "model_module": "@jupyter-widgets/controls",
          "model_name": "DescriptionStyleModel",
          "model_module_version": "1.5.0",
          "state": {
            "_model_module": "@jupyter-widgets/controls",
            "_model_module_version": "1.5.0",
            "_model_name": "DescriptionStyleModel",
            "_view_count": null,
            "_view_module": "@jupyter-widgets/base",
            "_view_module_version": "1.2.0",
            "_view_name": "StyleView",
            "description_width": ""
          }
        },
        "27be877b86ba4cf5b12413bcf8d8659b": {
          "model_module": "@jupyter-widgets/base",
          "model_name": "LayoutModel",
          "model_module_version": "1.2.0",
          "state": {
            "_model_module": "@jupyter-widgets/base",
            "_model_module_version": "1.2.0",
            "_model_name": "LayoutModel",
            "_view_count": null,
            "_view_module": "@jupyter-widgets/base",
            "_view_module_version": "1.2.0",
            "_view_name": "LayoutView",
            "align_content": null,
            "align_items": null,
            "align_self": null,
            "border": null,
            "bottom": null,
            "display": null,
            "flex": null,
            "flex_flow": null,
            "grid_area": null,
            "grid_auto_columns": null,
            "grid_auto_flow": null,
            "grid_auto_rows": null,
            "grid_column": null,
            "grid_gap": null,
            "grid_row": null,
            "grid_template_areas": null,
            "grid_template_columns": null,
            "grid_template_rows": null,
            "height": null,
            "justify_content": null,
            "justify_items": null,
            "left": null,
            "margin": null,
            "max_height": null,
            "max_width": null,
            "min_height": null,
            "min_width": null,
            "object_fit": null,
            "object_position": null,
            "order": null,
            "overflow": null,
            "overflow_x": null,
            "overflow_y": null,
            "padding": null,
            "right": null,
            "top": null,
            "visibility": null,
            "width": null
          }
        },
        "9fc86ff987324fc5ad2ed72eab0d08ef": {
          "model_module": "@jupyter-widgets/controls",
          "model_name": "ProgressStyleModel",
          "model_module_version": "1.5.0",
          "state": {
            "_model_module": "@jupyter-widgets/controls",
            "_model_module_version": "1.5.0",
            "_model_name": "ProgressStyleModel",
            "_view_count": null,
            "_view_module": "@jupyter-widgets/base",
            "_view_module_version": "1.2.0",
            "_view_name": "StyleView",
            "bar_color": null,
            "description_width": ""
          }
        },
        "d3879839a97d49b2b40a47ebb92a266b": {
          "model_module": "@jupyter-widgets/base",
          "model_name": "LayoutModel",
          "model_module_version": "1.2.0",
          "state": {
            "_model_module": "@jupyter-widgets/base",
            "_model_module_version": "1.2.0",
            "_model_name": "LayoutModel",
            "_view_count": null,
            "_view_module": "@jupyter-widgets/base",
            "_view_module_version": "1.2.0",
            "_view_name": "LayoutView",
            "align_content": null,
            "align_items": null,
            "align_self": null,
            "border": null,
            "bottom": null,
            "display": null,
            "flex": null,
            "flex_flow": null,
            "grid_area": null,
            "grid_auto_columns": null,
            "grid_auto_flow": null,
            "grid_auto_rows": null,
            "grid_column": null,
            "grid_gap": null,
            "grid_row": null,
            "grid_template_areas": null,
            "grid_template_columns": null,
            "grid_template_rows": null,
            "height": null,
            "justify_content": null,
            "justify_items": null,
            "left": null,
            "margin": null,
            "max_height": null,
            "max_width": null,
            "min_height": null,
            "min_width": null,
            "object_fit": null,
            "object_position": null,
            "order": null,
            "overflow": null,
            "overflow_x": null,
            "overflow_y": null,
            "padding": null,
            "right": null,
            "top": null,
            "visibility": null,
            "width": null
          }
        },
        "93b254536611412cb918aeb9c8709399": {
          "model_module": "@jupyter-widgets/controls",
          "model_name": "DescriptionStyleModel",
          "model_module_version": "1.5.0",
          "state": {
            "_model_module": "@jupyter-widgets/controls",
            "_model_module_version": "1.5.0",
            "_model_name": "DescriptionStyleModel",
            "_view_count": null,
            "_view_module": "@jupyter-widgets/base",
            "_view_module_version": "1.2.0",
            "_view_name": "StyleView",
            "description_width": ""
          }
        },
        "c016bbc071af49beb340dd60b33a36f4": {
          "model_module": "@jupyter-widgets/controls",
          "model_name": "HBoxModel",
          "model_module_version": "1.5.0",
          "state": {
            "_dom_classes": [],
            "_model_module": "@jupyter-widgets/controls",
            "_model_module_version": "1.5.0",
            "_model_name": "HBoxModel",
            "_view_count": null,
            "_view_module": "@jupyter-widgets/controls",
            "_view_module_version": "1.5.0",
            "_view_name": "HBoxView",
            "box_style": "",
            "children": [
              "IPY_MODEL_f1f139205f0043ff90e23ecd7117115d",
              "IPY_MODEL_20b58c0d6ba544e687eb9819b186aca1",
              "IPY_MODEL_d5b8ee90f0fc458da83e2e3288d7f93e"
            ],
            "layout": "IPY_MODEL_3c7b6ceb2cdf4506acd74a5e72a7899d"
          }
        },
        "f1f139205f0043ff90e23ecd7117115d": {
          "model_module": "@jupyter-widgets/controls",
          "model_name": "HTMLModel",
          "model_module_version": "1.5.0",
          "state": {
            "_dom_classes": [],
            "_model_module": "@jupyter-widgets/controls",
            "_model_module_version": "1.5.0",
            "_model_name": "HTMLModel",
            "_view_count": null,
            "_view_module": "@jupyter-widgets/controls",
            "_view_module_version": "1.5.0",
            "_view_name": "HTMLView",
            "description": "",
            "description_tooltip": null,
            "layout": "IPY_MODEL_4d5ee560c1cc40b992f7dcd41df2e9ee",
            "placeholder": "​",
            "style": "IPY_MODEL_020e4e2c90884288a564e8add3a86713",
            "value": " 18%"
          }
        },
        "20b58c0d6ba544e687eb9819b186aca1": {
          "model_module": "@jupyter-widgets/controls",
          "model_name": "FloatProgressModel",
          "model_module_version": "1.5.0",
          "state": {
            "_dom_classes": [],
            "_model_module": "@jupyter-widgets/controls",
            "_model_module_version": "1.5.0",
            "_model_name": "FloatProgressModel",
            "_view_count": null,
            "_view_module": "@jupyter-widgets/controls",
            "_view_module_version": "1.5.0",
            "_view_name": "ProgressView",
            "bar_style": "danger",
            "description": "",
            "description_tooltip": null,
            "layout": "IPY_MODEL_5804586ce92440f3ad9771fb85c4b820",
            "max": 10000,
            "min": 0,
            "orientation": "horizontal",
            "style": "IPY_MODEL_931e44e747ca44a48719f9071df55ec9",
            "value": 1796
          }
        },
        "d5b8ee90f0fc458da83e2e3288d7f93e": {
          "model_module": "@jupyter-widgets/controls",
          "model_name": "HTMLModel",
          "model_module_version": "1.5.0",
          "state": {
            "_dom_classes": [],
            "_model_module": "@jupyter-widgets/controls",
            "_model_module_version": "1.5.0",
            "_model_name": "HTMLModel",
            "_view_count": null,
            "_view_module": "@jupyter-widgets/controls",
            "_view_module_version": "1.5.0",
            "_view_name": "HTMLView",
            "description": "",
            "description_tooltip": null,
            "layout": "IPY_MODEL_d7febedb30d6484d800bbd202e0d921d",
            "placeholder": "​",
            "style": "IPY_MODEL_937c0cef9b6e4e05bcd419a9758c29ae",
            "value": " 1796/10000 [00:00&lt;00:01, 8129.99it/s]"
          }
        },
        "3c7b6ceb2cdf4506acd74a5e72a7899d": {
          "model_module": "@jupyter-widgets/base",
          "model_name": "LayoutModel",
          "model_module_version": "1.2.0",
          "state": {
            "_model_module": "@jupyter-widgets/base",
            "_model_module_version": "1.2.0",
            "_model_name": "LayoutModel",
            "_view_count": null,
            "_view_module": "@jupyter-widgets/base",
            "_view_module_version": "1.2.0",
            "_view_name": "LayoutView",
            "align_content": null,
            "align_items": null,
            "align_self": null,
            "border": null,
            "bottom": null,
            "display": null,
            "flex": null,
            "flex_flow": null,
            "grid_area": null,
            "grid_auto_columns": null,
            "grid_auto_flow": null,
            "grid_auto_rows": null,
            "grid_column": null,
            "grid_gap": null,
            "grid_row": null,
            "grid_template_areas": null,
            "grid_template_columns": null,
            "grid_template_rows": null,
            "height": null,
            "justify_content": null,
            "justify_items": null,
            "left": null,
            "margin": null,
            "max_height": null,
            "max_width": null,
            "min_height": null,
            "min_width": null,
            "object_fit": null,
            "object_position": null,
            "order": null,
            "overflow": null,
            "overflow_x": null,
            "overflow_y": null,
            "padding": null,
            "right": null,
            "top": null,
            "visibility": null,
            "width": null
          }
        },
        "4d5ee560c1cc40b992f7dcd41df2e9ee": {
          "model_module": "@jupyter-widgets/base",
          "model_name": "LayoutModel",
          "model_module_version": "1.2.0",
          "state": {
            "_model_module": "@jupyter-widgets/base",
            "_model_module_version": "1.2.0",
            "_model_name": "LayoutModel",
            "_view_count": null,
            "_view_module": "@jupyter-widgets/base",
            "_view_module_version": "1.2.0",
            "_view_name": "LayoutView",
            "align_content": null,
            "align_items": null,
            "align_self": null,
            "border": null,
            "bottom": null,
            "display": null,
            "flex": null,
            "flex_flow": null,
            "grid_area": null,
            "grid_auto_columns": null,
            "grid_auto_flow": null,
            "grid_auto_rows": null,
            "grid_column": null,
            "grid_gap": null,
            "grid_row": null,
            "grid_template_areas": null,
            "grid_template_columns": null,
            "grid_template_rows": null,
            "height": null,
            "justify_content": null,
            "justify_items": null,
            "left": null,
            "margin": null,
            "max_height": null,
            "max_width": null,
            "min_height": null,
            "min_width": null,
            "object_fit": null,
            "object_position": null,
            "order": null,
            "overflow": null,
            "overflow_x": null,
            "overflow_y": null,
            "padding": null,
            "right": null,
            "top": null,
            "visibility": null,
            "width": null
          }
        },
        "020e4e2c90884288a564e8add3a86713": {
          "model_module": "@jupyter-widgets/controls",
          "model_name": "DescriptionStyleModel",
          "model_module_version": "1.5.0",
          "state": {
            "_model_module": "@jupyter-widgets/controls",
            "_model_module_version": "1.5.0",
            "_model_name": "DescriptionStyleModel",
            "_view_count": null,
            "_view_module": "@jupyter-widgets/base",
            "_view_module_version": "1.2.0",
            "_view_name": "StyleView",
            "description_width": ""
          }
        },
        "5804586ce92440f3ad9771fb85c4b820": {
          "model_module": "@jupyter-widgets/base",
          "model_name": "LayoutModel",
          "model_module_version": "1.2.0",
          "state": {
            "_model_module": "@jupyter-widgets/base",
            "_model_module_version": "1.2.0",
            "_model_name": "LayoutModel",
            "_view_count": null,
            "_view_module": "@jupyter-widgets/base",
            "_view_module_version": "1.2.0",
            "_view_name": "LayoutView",
            "align_content": null,
            "align_items": null,
            "align_self": null,
            "border": null,
            "bottom": null,
            "display": null,
            "flex": null,
            "flex_flow": null,
            "grid_area": null,
            "grid_auto_columns": null,
            "grid_auto_flow": null,
            "grid_auto_rows": null,
            "grid_column": null,
            "grid_gap": null,
            "grid_row": null,
            "grid_template_areas": null,
            "grid_template_columns": null,
            "grid_template_rows": null,
            "height": null,
            "justify_content": null,
            "justify_items": null,
            "left": null,
            "margin": null,
            "max_height": null,
            "max_width": null,
            "min_height": null,
            "min_width": null,
            "object_fit": null,
            "object_position": null,
            "order": null,
            "overflow": null,
            "overflow_x": null,
            "overflow_y": null,
            "padding": null,
            "right": null,
            "top": null,
            "visibility": null,
            "width": null
          }
        },
        "931e44e747ca44a48719f9071df55ec9": {
          "model_module": "@jupyter-widgets/controls",
          "model_name": "ProgressStyleModel",
          "model_module_version": "1.5.0",
          "state": {
            "_model_module": "@jupyter-widgets/controls",
            "_model_module_version": "1.5.0",
            "_model_name": "ProgressStyleModel",
            "_view_count": null,
            "_view_module": "@jupyter-widgets/base",
            "_view_module_version": "1.2.0",
            "_view_name": "StyleView",
            "bar_color": null,
            "description_width": ""
          }
        },
        "d7febedb30d6484d800bbd202e0d921d": {
          "model_module": "@jupyter-widgets/base",
          "model_name": "LayoutModel",
          "model_module_version": "1.2.0",
          "state": {
            "_model_module": "@jupyter-widgets/base",
            "_model_module_version": "1.2.0",
            "_model_name": "LayoutModel",
            "_view_count": null,
            "_view_module": "@jupyter-widgets/base",
            "_view_module_version": "1.2.0",
            "_view_name": "LayoutView",
            "align_content": null,
            "align_items": null,
            "align_self": null,
            "border": null,
            "bottom": null,
            "display": null,
            "flex": null,
            "flex_flow": null,
            "grid_area": null,
            "grid_auto_columns": null,
            "grid_auto_flow": null,
            "grid_auto_rows": null,
            "grid_column": null,
            "grid_gap": null,
            "grid_row": null,
            "grid_template_areas": null,
            "grid_template_columns": null,
            "grid_template_rows": null,
            "height": null,
            "justify_content": null,
            "justify_items": null,
            "left": null,
            "margin": null,
            "max_height": null,
            "max_width": null,
            "min_height": null,
            "min_width": null,
            "object_fit": null,
            "object_position": null,
            "order": null,
            "overflow": null,
            "overflow_x": null,
            "overflow_y": null,
            "padding": null,
            "right": null,
            "top": null,
            "visibility": null,
            "width": null
          }
        },
        "937c0cef9b6e4e05bcd419a9758c29ae": {
          "model_module": "@jupyter-widgets/controls",
          "model_name": "DescriptionStyleModel",
          "model_module_version": "1.5.0",
          "state": {
            "_model_module": "@jupyter-widgets/controls",
            "_model_module_version": "1.5.0",
            "_model_name": "DescriptionStyleModel",
            "_view_count": null,
            "_view_module": "@jupyter-widgets/base",
            "_view_module_version": "1.2.0",
            "_view_name": "StyleView",
            "description_width": ""
          }
        }
      }
    }
  },
  "cells": [
    {
      "cell_type": "markdown",
      "source": [
        "# 1 Find a stationary point"
      ],
      "metadata": {
        "id": "mH0CNw5DpXVE"
      }
    },
    {
      "cell_type": "code",
      "source": [
        "import numpy as np\n",
        "\n",
        "Af = np.array([[5, 3, 5], \n",
        "               [3, 4, 0], \n",
        "               [5, 0, -4]])\n",
        "bf = np.array([-39, 42, -101])\n",
        "\n",
        "def f(x):\n",
        "    return x.T @ Af @ x + bf @ x\n",
        "\n",
        "def grad_f(x):\n",
        "    return 2 * Af @ x + bf\n",
        "\n",
        "def grad_h1(x=None):\n",
        "    return np.array([-2, 3, -9])\n",
        "\n",
        "def grad_h2(x=None):\n",
        "    return np.array([-5, -10, 1])\n",
        "\n",
        "def hess_f(x):\n",
        "    return 2 * Af"
      ],
      "metadata": {
        "id": "6hl4QNZ6pe6v"
      },
      "execution_count": null,
      "outputs": []
    },
    {
      "cell_type": "code",
      "source": [
        "Ainv_b1 = np.linalg.solve(Af, grad_h1())\n",
        "Ainv_b2 = np.linalg.solve(Af, grad_h2())\n",
        "\n",
        "A = np.array([[grad_h1() @ Ainv_b1, grad_h1() @ Ainv_b2], \n",
        "              [grad_h2() @ Ainv_b1, grad_h2() @ Ainv_b2]])\n",
        "\n",
        "# print(A)\n",
        "\n",
        "Ainv_bf = np.linalg.solve(Af, bf) \n",
        "\n",
        "b = 2 * np.array([-57, 56]) + np.array([grad_h1() @ Ainv_bf, \n",
        "                                         grad_h2() @ Ainv_bf])\n",
        "\n",
        "lambdas = np.linalg.solve(A, b)\n",
        "\n",
        "print(f'lambdas: {lambdas}')"
      ],
      "metadata": {
        "colab": {
          "base_uri": "https://localhost:8080/"
        },
        "id": "D6cfENXepe35",
        "outputId": "e5182e41-2db0-4cc3-e05b-7e387ae20c65"
      },
      "execution_count": null,
      "outputs": [
        {
          "output_type": "stream",
          "name": "stdout",
          "text": [
            "lambdas: [ 2. -1.]\n"
          ]
        }
      ]
    },
    {
      "cell_type": "code",
      "source": [
        "x = - 0.5 * (Ainv_bf + lambdas[0] * Ainv_b1 + lambdas[1] * Ainv_b2)\n",
        "\n",
        "print(f'Solution: {x}')"
      ],
      "metadata": {
        "colab": {
          "base_uri": "https://localhost:8080/"
        },
        "id": "LjNBq3cIpe1v",
        "outputId": "6c19f2b2-eca1-43aa-ff8d-5d04d4a659d7"
      },
      "execution_count": null,
      "outputs": [
        {
          "output_type": "stream",
          "name": "stdout",
          "text": [
            "Solution: [ 12.86111111 -16.89583333   1.07638889]\n"
          ]
        }
      ]
    },
    {
      "cell_type": "code",
      "source": [
        "5 - 47 / 87 * 6 + 10 * (5 - 10 * 47 / 87) + 4 * (47 / 87) ** 2 - 4 * (5 - 10 * 47 / 87) ** 2"
      ],
      "metadata": {
        "colab": {
          "base_uri": "https://localhost:8080/"
        },
        "id": "LDKAXUl4t6jR",
        "outputId": "a2a19aea-20b8-4e36-e7b5-692646f6c06e"
      },
      "execution_count": null,
      "outputs": [
        {
          "output_type": "execute_result",
          "data": {
            "text/plain": [
              "-1.7443519619500631"
            ]
          },
          "metadata": {},
          "execution_count": 4
        }
      ]
    },
    {
      "cell_type": "markdown",
      "source": [
        "function is concave, hence the point corresponds to the maximum of the function"
      ],
      "metadata": {
        "id": "jtrTym9ywUKF"
      }
    },
    {
      "cell_type": "markdown",
      "source": [
        "# 2 Check whether xs are stationary points."
      ],
      "metadata": {
        "id": "rpizahQWc5wu"
      }
    },
    {
      "cell_type": "code",
      "source": [
        "import numpy as np\n",
        "\n",
        "def h1(x):\n",
        "    res = 14 * x[0] ** 2 + 6 * x[0] * x[1] + 8 * x[0] * x[2] + 232 * x[0]\n",
        "    res += 14 * x[1] ** 2 - 10 * x[1] * x[2] - 734 * x[1]\n",
        "    res += 12 * x[2] ** 2 - 154 * x[2] - 120.\n",
        "    return res\n",
        "\n",
        "def g1(x):\n",
        "    return -257 * x[0] + 377.5 * x[1] + 216 * x[2] - 213.5\n",
        "\n",
        "def g2(x):\n",
        "    return 70 * x[0] + 317 * x[1] + 215 * x[2] - 1457\n",
        "\n",
        "\n",
        "x1 = np.array([4., 1., 4.])\n",
        "x2 = np.array([7.641261, 4.692335, -2.629574])\n",
        "x3 = np.array([3.931046, 10.638642, -12.927354])"
      ],
      "metadata": {
        "id": "gW03f7m1fsAz"
      },
      "execution_count": null,
      "outputs": []
    },
    {
      "cell_type": "code",
      "source": [
        "def primal_feasibility(x):\n",
        "    print(f'primal_feasibility for {x}')\n",
        "    print(f'h1: {h1(x)}, {h1(x) == 0}')\n",
        "    print(f'g1: {g1(x)}, {g1(x) <= 0}')\n",
        "    print(f'g2: {g2(x)}, {g2(x) <= 0}')\n",
        "\n",
        "\n",
        "primal_feasibility(x1)\n",
        "primal_feasibility(x2)\n",
        "primal_feasibility(x3)"
      ],
      "metadata": {
        "colab": {
          "base_uri": "https://localhost:8080/"
        },
        "id": "bZWofLymhPIU",
        "outputId": "ed7b816b-0f1b-40df-a41e-37099d7c9cf6"
      },
      "execution_count": null,
      "outputs": [
        {
          "output_type": "stream",
          "name": "stdout",
          "text": [
            "primal_feasibility for [4. 1. 4.]\n",
            "h1: 0.0, True\n",
            "g1: 0.0, True\n",
            "g2: 0.0, True\n",
            "primal_feasibility for [ 7.641261  4.692335 -2.629574]\n",
            "h1: -0.00027529244641755213, False\n",
            "g1: -973.9355985000001, True\n",
            "g2: 5.499999997482519e-05, False\n",
            "primal_feasibility for [  3.931046  10.638642 -12.927354]\n",
            "h1: -2.233668874396244e-05, False\n",
            "g1: 6.900000062159961e-05, False\n",
            "g2: -588.7583759999993, True\n"
          ]
        }
      ]
    },
    {
      "cell_type": "markdown",
      "source": [
        "The second point is not even feasible"
      ],
      "metadata": {
        "id": "Wq6GK86rpG7L"
      }
    },
    {
      "cell_type": "markdown",
      "source": [
        "The first point is feasible + for $g_{1, 2}(x) = 0$ it follows that $\\mu_{1, 2} \\geq 0$"
      ],
      "metadata": {
        "id": "ODaQQ9xfiiCw"
      }
    },
    {
      "cell_type": "code",
      "source": [
        "Ah = np.array([[14, 3, 4], \n",
        "               [3, 14, -5], \n",
        "               [4, -5, 12]])\n",
        "\n",
        "bh = np.array([232., -734., -154.])\n",
        "\n",
        "def grad_f(x):\n",
        "    return np.array([4 * 4 * x[0] ** 3 + 2 * 2 * x[0] * x[1] ** 2 - 4 * 2 * x[0] * x[2] ** 2, \n",
        "                     2 * 2 * x[0] ** 2 * x[1] - 4 * x[1] ** 3 - 6 * 2 * x[1] * x[2] ** 2, \n",
        "                     -4 * 2 * x[0] ** 2 * x[2] - 6 * 2 * x[1] ** 2 * x[2] - 4 * 4 * x[2] ** 3])\n",
        "\n",
        "def grad_h1(x):\n",
        "    return 2 * Ah @ x + bh\n",
        "\n",
        "def grad_g1(x):\n",
        "    return np.array([-257., 377.5, 216.])\n",
        "\n",
        "def grad_g2(x):\n",
        "    return np.array([70., 317., 215.])"
      ],
      "metadata": {
        "id": "V7EVYX_Lidd-"
      },
      "execution_count": null,
      "outputs": []
    },
    {
      "cell_type": "code",
      "source": [
        "print(f'grad_f: {grad_f(x1)}')\n",
        "print(f'grad_h1: {grad_h1(x1)}')"
      ],
      "metadata": {
        "colab": {
          "base_uri": "https://localhost:8080/"
        },
        "id": "PQNhl6PRmEDb",
        "outputId": "b0b164c9-2052-48c6-af5c-52aef9a6af8d"
      },
      "execution_count": null,
      "outputs": [
        {
          "output_type": "stream",
          "name": "stdout",
          "text": [
            "grad_f: [  528.  -132. -1584.]\n",
            "grad_h1: [ 382. -722.  -36.]\n"
          ]
        }
      ]
    },
    {
      "cell_type": "code",
      "source": [
        "np.linalg.solve(np.hstack([grad_h1(x1).reshape(-1, 1), \n",
        "                           grad_g1(x1).reshape(-1, 1), \n",
        "                           grad_g2(x1).reshape(-1, 1)]), \n",
        "                -grad_f(x1))"
      ],
      "metadata": {
        "colab": {
          "base_uri": "https://localhost:8080/"
        },
        "id": "81-QkVd2mRrj",
        "outputId": "a280ee89-c969-48a0-b6b0-2ea8962bee51"
      },
      "execution_count": null,
      "outputs": [
        {
          "output_type": "execute_result",
          "data": {
            "text/plain": [
              "array([4., 8., 0.])"
            ]
          },
          "metadata": {},
          "execution_count": 9
        }
      ]
    },
    {
      "cell_type": "markdown",
      "source": [
        "From the last two components which are responsible for $\\mu_{1, 2}$ we can conclude that it is stationary point of the problem"
      ],
      "metadata": {
        "id": "QZJ3npLBoyXw"
      }
    },
    {
      "cell_type": "markdown",
      "source": [
        "The third point is feasible up to the machine precision: $\\mu_1 \\geq 0$, $\\mu_2 = 0$"
      ],
      "metadata": {
        "id": "l6HieMdJnm_4"
      }
    },
    {
      "cell_type": "code",
      "source": [
        "print(f'grad_f: {grad_f(x3)}')\n",
        "print(f'grad_h1: {grad_h1(x3)}')"
      ],
      "metadata": {
        "colab": {
          "base_uri": "https://localhost:8080/"
        },
        "id": "CFGi2qo8nlnR",
        "outputId": "1a1143a9-6777-47d8-c46a-b378e569c622"
      },
      "execution_count": null,
      "outputs": [
        {
          "output_type": "stream",
          "name": "stdout",
          "text": [
            "grad_f: [ -2503.91542256 -25493.46400926  53721.65079038]\n",
            "grad_h1: [ 302.482308 -283.258208 -539.194548]\n"
          ]
        }
      ]
    },
    {
      "cell_type": "code",
      "source": [
        "np.linalg.solve(np.hstack([grad_h1(x3).reshape(-1, 1), \n",
        "                           grad_g1(x3).reshape(-1, 1), \n",
        "                           grad_g2(x3).reshape(-1, 1)]), \n",
        "                -grad_f(x1))"
      ],
      "metadata": {
        "colab": {
          "base_uri": "https://localhost:8080/"
        },
        "id": "HWe9gDRjoIxs",
        "outputId": "f45d480a-203d-40db-b780-9363c260aefa"
      },
      "execution_count": null,
      "outputs": [
        {
          "output_type": "execute_result",
          "data": {
            "text/plain": [
              "array([-3.99986531e+00, -2.65286559e+00,  1.45765883e-03])"
            ]
          },
          "metadata": {},
          "execution_count": 11
        }
      ]
    },
    {
      "cell_type": "markdown",
      "source": [
        "From the last two components which are responsible for $\\mu_{1, 2}$ we can conclude that daul feasibility doesnt hold"
      ],
      "metadata": {
        "id": "a7OXQjhZoST7"
      }
    },
    {
      "cell_type": "markdown",
      "source": [
        "# 3 Use SQP-Algorithm to find a solution."
      ],
      "metadata": {
        "id": "6hdnBmEkcvlC"
      }
    },
    {
      "cell_type": "code",
      "execution_count": null,
      "metadata": {
        "id": "VwM_U1ykTGVd"
      },
      "outputs": [],
      "source": [
        "import numpy as np\n",
        "from tqdm.notebook import tqdm\n",
        "\n",
        "\n",
        "Af = np.array([[22., 12.], \n",
        "               [12., 8.]])\n",
        "\n",
        "bf = np.array([6., -16.])\n",
        "\n",
        "\n",
        "Ah = np.array([[13., 2.], [2., 9]])\n",
        "\n",
        "\n",
        "def f(x):\n",
        "    return x.T @ Af @ x + bf @ x\n",
        "\n",
        "\n",
        "def h(x):\n",
        "    return (x.T @ Ah @ x - 9.).reshape(1)\n",
        "\n",
        "\n",
        "def grad_f(x):\n",
        "    return 2 * Af @ x + bf\n",
        "\n",
        "\n",
        "def hess_f(x):\n",
        "    return 2 * Af\n",
        "\n",
        "\n",
        "def jac_h(x):\n",
        "    return 2 * (Ah @ x).reshape(1, -1)\n",
        "\n",
        "\n",
        "def hess_h(x):\n",
        "    return 2 * Ah\n",
        "\n",
        "\n",
        "def SQP(grad, hs, jac, hesses, eps, x0, lambda0, max_iter=10**4):\n",
        "    xk = x0.copy()\n",
        "    lambdak = lambda0.copy()\n",
        "    \n",
        "    for k in tqdm(range(max_iter)):\n",
        "        gk = grad(xk)\n",
        "        Ak = jac(xk)\n",
        "        Dk = hesses[0](xk)\n",
        "        \n",
        "        for i in range(len(lambdak)):\n",
        "            Dk += lambdak[i] * hesses[i + 1](xk)\n",
        "        \n",
        "        rk = hs(xk)\n",
        "        A = np.block([[Dk, Ak.T], \n",
        "                      [Ak, np.eye(Ak.shape[0])]])\n",
        "        # print(gk, rk)\n",
        "        b = -np.hstack([gk, rk])\n",
        "        pk = np.linalg.solve(A, b)\n",
        "        \n",
        "        uk = pk[-len(lambdak):]\n",
        "        pk = pk[:len(xk)]\n",
        "        \n",
        "        if np.linalg.norm(pk) <= eps:\n",
        "            break\n",
        "        else:\n",
        "            xk += pk\n",
        "            lambdak = uk\n",
        "        \n",
        "    return xk, lambdak\n",
        "\n"
      ]
    },
    {
      "cell_type": "code",
      "source": [
        "x0 = np.array([3., 3.]) \n",
        "lambda0 = np.array([3.])\n",
        "eps = 1e-3\n",
        "\n",
        "SQP(grad_f, h, jac_h, [hess_f, hess_h], eps=eps, x0=x0, lambda0=lambda0)"
      ],
      "metadata": {
        "colab": {
          "base_uri": "https://localhost:8080/",
          "height": 67,
          "referenced_widgets": [
            "e0f38cf9461547c180a87a48cdaa412a",
            "357bf7b2b07b46d4952d0c41cb4a267d",
            "1252c225fdde4f62ba1f3fa1dd06d887",
            "b86a81a01f354daeaf70e1191259a413",
            "290c06294e0749a493365f243c587398",
            "c0fc89e7e6c34f8b9ba4d72dcb599f69",
            "45d70d6bf6ee4b718e35cf083ca72749",
            "d855a5789fdc42b5aa567af6aca6317d",
            "1a806e7e8c2d47b783c13482f9248be1",
            "471a63c5cb6f4d3c964b7e0c301649de",
            "c3b23136c92045618619991d867f85bb"
          ]
        },
        "id": "a0c9UvWNa7-J",
        "outputId": "97a64dc6-05b7-4128-9750-d49e7f315e16"
      },
      "execution_count": null,
      "outputs": [
        {
          "output_type": "display_data",
          "data": {
            "text/plain": [
              "  0%|          | 0/10000 [00:00<?, ?it/s]"
            ],
            "application/vnd.jupyter.widget-view+json": {
              "version_major": 2,
              "version_minor": 0,
              "model_id": "e0f38cf9461547c180a87a48cdaa412a"
            }
          },
          "metadata": {}
        },
        {
          "output_type": "execute_result",
          "data": {
            "text/plain": [
              "(array([-0.45172923,  0.88514492]), array([0.8969542]))"
            ]
          },
          "metadata": {},
          "execution_count": 13
        }
      ]
    },
    {
      "cell_type": "code",
      "source": [
        "x_res = np.array([-0.45172923,  0.88514492])\n",
        "f(x_res)"
      ],
      "metadata": {
        "colab": {
          "base_uri": "https://localhost:8080/"
        },
        "id": "JSBzsI1Rbc6Y",
        "outputId": "45e5bafa-2e02-4007-a5d6-05a967daf804"
      },
      "execution_count": null,
      "outputs": [
        {
          "output_type": "execute_result",
          "data": {
            "text/plain": [
              "-15.711837321185183"
            ]
          },
          "metadata": {},
          "execution_count": 14
        }
      ]
    },
    {
      "cell_type": "markdown",
      "source": [
        "# 2 Find a stationary point of function"
      ],
      "metadata": {
        "id": "mbPCrYExwmc7"
      }
    },
    {
      "cell_type": "code",
      "source": [
        "import numpy as np\n",
        "from scipy.optimize import line_search\n",
        "\n",
        "\n",
        "def PolakRibiere(f, grad_f, x0, eps, max_iter=10**4):\n",
        "    xk = x0.copy()\n",
        "    gk = grad_f(x0)\n",
        "    dk = -gk.copy()\n",
        "    \n",
        "    for k in tqdm(range(max_iter)):\n",
        "        # print(np.linalg.norm(gk))\n",
        "        if np.linalg.norm(gk) < eps:\n",
        "            break\n",
        "\n",
        "        tau = line_search(f, grad_f, xk, dk)[0]\n",
        "        tau = 1e-4 if tau is None else tau\n",
        "        # print(xk)\n",
        "        # print(dk)\n",
        "        # print(tau)\n",
        "        xk += tau * dk\n",
        "        betak = np.maximum(0, gk @ (grad_f(xk) - gk) / gk.T @ gk)\n",
        "        gk = grad_f(xk)\n",
        "        dk = -gk + betak * dk\n",
        "\n",
        "    return xk     \n",
        "\n",
        "def f(x):\n",
        "    return sum((x[i] ** 2 + x[i + 1] - 11) ** 2 + (x[i] + x[i + 1] ** 2 - 7) ** 2 for i in range(0, len(x), 2))\n",
        "\n",
        "def grad_f(x):\n",
        "    res = [2 * (x[0] ** 2 + x[1] - 11) * 2 * x[0] + 2 * (x[0] + x[1] ** 2 - 7)] \n",
        "    \n",
        "    for i in range(1, len(x) - 1):\n",
        "        tmp = 2 * (x[i] ** 2 + x[i + 1] - 11) * 2 * x[i] + 2 * (x[i] + x[i + 1] ** 2 - 7)\n",
        "        tmp += 2 * (x[i - 1] ** 2 + x[i] - 11) + 2 * (x[i - 1] + x[i] ** 2 - 7) * 2 * x[i] ** 2\n",
        "        res += [tmp]\n",
        "\n",
        "    res += [2 * (x[-2] ** 2 + x[-1] - 11) + 2 * (x[-2] + x[-1] ** 2 - 7) * 2 * x[-1] ** 2]\n",
        "    return np.hstack(res)\n",
        "\n",
        "x0 = np.ones(10)\n",
        "eps = 1e-3\n",
        "\n",
        "\n",
        "PolakRibiere(f, grad_f, x0, eps, max_iter=10**4)"
      ],
      "metadata": {
        "colab": {
          "base_uri": "https://localhost:8080/",
          "height": 122,
          "referenced_widgets": [
            "1e1459cd04c1422882f4f6c8ba8c8cd4",
            "2a4604d1484247fab8a202381f6c09f9",
            "0b4615d67856495aace7951f0954c2ee",
            "d9c73fbfd6c4422a9fbdc47852961a47",
            "ecdcc07962f546f280f154c91f658247",
            "d8c3706663ce436ea1dc7d285b0d033b",
            "00b5058d105b42fdac4d9096beed380f",
            "27be877b86ba4cf5b12413bcf8d8659b",
            "9fc86ff987324fc5ad2ed72eab0d08ef",
            "d3879839a97d49b2b40a47ebb92a266b",
            "93b254536611412cb918aeb9c8709399"
          ]
        },
        "id": "g9RLRBulwp4s",
        "outputId": "9a1f6217-030a-49af-cf91-41429ca68d0e"
      },
      "execution_count": null,
      "outputs": [
        {
          "output_type": "display_data",
          "data": {
            "text/plain": [
              "  0%|          | 0/10000 [00:00<?, ?it/s]"
            ],
            "application/vnd.jupyter.widget-view+json": {
              "version_major": 2,
              "version_minor": 0,
              "model_id": "1e1459cd04c1422882f4f6c8ba8c8cd4"
            }
          },
          "metadata": {}
        },
        {
          "output_type": "stream",
          "name": "stderr",
          "text": [
            "/usr/local/lib/python3.7/dist-packages/scipy/optimize/linesearch.py:314: LineSearchWarning: The line search algorithm did not converge\n",
            "  warn('The line search algorithm did not converge', LineSearchWarning)\n"
          ]
        },
        {
          "output_type": "execute_result",
          "data": {
            "text/plain": [
              "array([2.90895969, 2.31779376, 2.43593756, 2.41363586, 2.4178948 ,\n",
              "       2.41704899, 2.41752285, 2.41462809, 2.44023788, 2.20286   ])"
            ]
          },
          "metadata": {},
          "execution_count": 19
        }
      ]
    },
    {
      "cell_type": "code",
      "source": [
        "x_res = np.array([2.90895969, 2.31779376, 2.43593756, 2.41363586, 2.4178948 ,\n",
        "       2.41704899, 2.41752285, 2.41462809, 2.44023788, 2.20286   ])\n",
        "\n",
        "f(x_res)"
      ],
      "metadata": {
        "colab": {
          "base_uri": "https://localhost:8080/"
        },
        "id": "QIew3HbuVRza",
        "outputId": "408eddf0-1148-46f1-befa-ee10e62c5945"
      },
      "execution_count": null,
      "outputs": [
        {
          "output_type": "execute_result",
          "data": {
            "text/plain": [
              "36.62993284112714"
            ]
          },
          "metadata": {},
          "execution_count": 20
        }
      ]
    },
    {
      "cell_type": "markdown",
      "source": [
        "# 3 Find a minimum point of convex function"
      ],
      "metadata": {
        "id": "jHuTA6wQwqTu"
      }
    },
    {
      "cell_type": "code",
      "source": [
        "import numpy as np\n",
        "\n",
        "def f(x):\n",
        "    res = x[2] ** 2 + 10 * (x[0] + x[1] - 1) ** 2 - 160\n",
        "    res += 3 * (1 - x[0]) ** 2 + 3 * (2 - x[1]) ** 2 - 12 * x[2]\n",
        "    res += 4 * (2 - x[0]) ** 4 + 4 * (1 - x[1]) ** 4\n",
        "    res += 5 * (4 - x[0]) ** 4 + 5 * (4 - x[1]) ** 4\n",
        "    return res\n",
        "\n",
        "def grad_f(x):\n",
        "    return np.array([10 * (x[0] + x[1] - 1) - 3 * 4 * (1 - x[0]) ** 3 - 4 * 4 * (2 - x[0]) ** 3 - 5 * 4 * (4 - x[0]) ** 3,\n",
        "                     10 * (x[0] + x[1] - 1) - 3 * 4 * (2 - x[1]) ** 3 - 4 * 4 * (1 - x[1]) ** 3 - 5 * 4 * (4 - x[1]) ** 3,\n",
        "                     2 * x[2] - 12])\n",
        "\n",
        "def hess_f(x):\n",
        "    return np.array([[10 + 3 * 4 * 3 * (1 - x[0]) ** 2 + 4 * 4 * 3 * (2 - x[0]) ** 2 + 5 * 4 * 3 * (4 - x[0]) ** 2, 10, 0], \n",
        "                     [10, 10 + 3 * 4 * 3 * (2 - x[1]) ** 2 + 4 * 4 * 3 * (1 - x[1]) ** 2 + 5 * 4 * 4 * (4 - x[1]) ** 2, 0], \n",
        "                     [0, 0, 2]])\n",
        "\n",
        "\n",
        "def Newton(f, grad, hess, x0, eps, max_iter=10**4):\n",
        "    xk = x0.copy()\n",
        "    # print(xk)\n",
        "    # print(gk)\n",
        "    for k in tqdm(range(max_iter)):\n",
        "        # print(np.linalg.norm(gk))\n",
        "        gk = grad_f(xk)\n",
        "        if np.linalg.norm(gk) < eps:\n",
        "            break\n",
        "        W = hess(xk)\n",
        "        l = np.linalg.eigvalsh(W)[0]\n",
        "\n",
        "        if l <= 0:\n",
        "            print(1)\n",
        "            W += -l * np.eye(W.shape[0]) + 1e-3\n",
        "\n",
        "        dk = np.linalg.solve(W, -gk)\n",
        "        tau = None\n",
        "        tau = 1e-2 if tau is None else tau\n",
        "        xk += tau * dk\n",
        "    \n",
        "    return xk\n",
        "\n",
        "\n",
        "x0 = np.random.randn(3)\n",
        "eps = 1e-3\n",
        "\n",
        "Newton(f, grad_f, hess_f, x0, eps, max_iter=10**4)"
      ],
      "metadata": {
        "colab": {
          "base_uri": "https://localhost:8080/",
          "height": 67,
          "referenced_widgets": [
            "c016bbc071af49beb340dd60b33a36f4",
            "f1f139205f0043ff90e23ecd7117115d",
            "20b58c0d6ba544e687eb9819b186aca1",
            "d5b8ee90f0fc458da83e2e3288d7f93e",
            "3c7b6ceb2cdf4506acd74a5e72a7899d",
            "4d5ee560c1cc40b992f7dcd41df2e9ee",
            "020e4e2c90884288a564e8add3a86713",
            "5804586ce92440f3ad9771fb85c4b820",
            "931e44e747ca44a48719f9071df55ec9",
            "d7febedb30d6484d800bbd202e0d921d",
            "937c0cef9b6e4e05bcd419a9758c29ae"
          ]
        },
        "id": "xuYDz1CAwsvd",
        "outputId": "5c8ce439-1a07-48ef-dfb5-a8ab92cf8369"
      },
      "execution_count": null,
      "outputs": [
        {
          "output_type": "display_data",
          "data": {
            "text/plain": [
              "  0%|          | 0/10000 [00:00<?, ?it/s]"
            ],
            "application/vnd.jupyter.widget-view+json": {
              "version_major": 2,
              "version_minor": 0,
              "model_id": "c016bbc071af49beb340dd60b33a36f4"
            }
          },
          "metadata": {}
        },
        {
          "output_type": "execute_result",
          "data": {
            "text/plain": [
              "array([2.44157502, 2.39556461, 5.9999999 ])"
            ]
          },
          "metadata": {},
          "execution_count": 21
        }
      ]
    },
    {
      "cell_type": "code",
      "source": [
        "x_res = np.array([2.44157502, 2.39556461, 5.9999999 ])\n",
        "f(x_res)"
      ],
      "metadata": {
        "colab": {
          "base_uri": "https://localhost:8080/"
        },
        "id": "ABO61ww3ToLh",
        "outputId": "7015d928-3c85-4a8b-d3f7-451050983452"
      },
      "execution_count": null,
      "outputs": [
        {
          "output_type": "execute_result",
          "data": {
            "text/plain": [
              "35.89040721419608"
            ]
          },
          "metadata": {},
          "execution_count": 22
        }
      ]
    },
    {
      "cell_type": "code",
      "source": [
        ""
      ],
      "metadata": {
        "id": "BwP5rn-OVgrr"
      },
      "execution_count": null,
      "outputs": []
    }
  ]
}